{
 "cells": [
  {
   "cell_type": "code",
   "execution_count": 1,
   "id": "8136c449-8445-45fd-8d23-358f6e639e67",
   "metadata": {},
   "outputs": [],
   "source": [
    "# note: same thing for REPL\n",
    "# note: we use this instead of magic because `black` will otherwise fail to format\n",
    "#\n",
    "# Enable autoreload to automatically reload modules when they change\n",
    "\n",
    "from IPython import get_ipython\n",
    "\n",
    "# do this so that formatter not messed up\n",
    "ipython = get_ipython()\n",
    "ipython.run_line_magic(\"load_ext\", \"autoreload\")\n",
    "ipython.run_line_magic(\"autoreload\", \"2\")\n",
    "\n",
    "# Import commonly used libraries\n",
    "import numpy as np\n",
    "import pandas as pd\n",
    "\n",
    "# graphics\n",
    "# import matplotlib.pyplot as plt\n",
    "# import plotly.express as px\n",
    "# import plotly.graph_objects as go\n",
    "\n",
    "# more itertools\n",
    "import more_itertools as mi\n",
    "\n",
    "# itertools\n",
    "import itertools\n",
    "import collections\n",
    "\n",
    "# automatically apply jaxtyping\n",
    "# %load_ext jaxtyping\n",
    "# %jaxtyping.typechecker typeguard.typechecked"
   ]
  },
  {
   "cell_type": "code",
   "execution_count": 2,
   "id": "a7e51bd8",
   "metadata": {},
   "outputs": [],
   "source": [
    "import inspect_ai as iai"
   ]
  },
  {
   "cell_type": "code",
   "execution_count": 3,
   "id": "373553ef",
   "metadata": {},
   "outputs": [],
   "source": [
    "from typing import Sequence"
   ]
  },
  {
   "cell_type": "code",
   "execution_count": 4,
   "id": "dd862101",
   "metadata": {},
   "outputs": [
    {
     "ename": "AttributeError",
     "evalue": "module 'inspect_explorer.inspect_ai' has no attribute 'task'",
     "output_type": "error",
     "traceback": [
      "\u001b[0;31m---------------------------------------------------------------------------\u001b[0m",
      "\u001b[0;31mAttributeError\u001b[0m                            Traceback (most recent call last)",
      "Cell \u001b[0;32mIn[4], line 1\u001b[0m\n\u001b[0;32m----> 1\u001b[0m \u001b[38;5;129m@iai\u001b[39m\u001b[38;5;241;43m.\u001b[39;49m\u001b[43mtask\u001b[49m\n\u001b[1;32m      2\u001b[0m \u001b[38;5;28;01mdef\u001b[39;00m \u001b[38;5;21mhello_world\u001b[39m() \u001b[38;5;241m-\u001b[39m\u001b[38;5;241m>\u001b[39m iai\u001b[38;5;241m.\u001b[39mTask:\n\u001b[1;32m      4\u001b[0m     dataset: iai\u001b[38;5;241m.\u001b[39mDataset \u001b[38;5;241m|\u001b[39m Sequence[iai\u001b[38;5;241m.\u001b[39mdataset\u001b[38;5;241m.\u001b[39mSample] \u001b[38;5;241m=\u001b[39m [\n\u001b[1;32m      5\u001b[0m         iai\u001b[38;5;241m.\u001b[39mdataset\u001b[38;5;241m.\u001b[39mSample(\n\u001b[1;32m      6\u001b[0m             \u001b[38;5;28minput\u001b[39m\u001b[38;5;241m=\u001b[39m\u001b[38;5;124m\"\u001b[39m\u001b[38;5;124mJust reply with Hello World\u001b[39m\u001b[38;5;124m\"\u001b[39m,\n\u001b[1;32m      7\u001b[0m             target\u001b[38;5;241m=\u001b[39m\u001b[38;5;124m\"\u001b[39m\u001b[38;5;124mHello World\u001b[39m\u001b[38;5;124m\"\u001b[39m,\n\u001b[1;32m      8\u001b[0m         )\n\u001b[1;32m      9\u001b[0m     ]\n\u001b[1;32m     11\u001b[0m     \u001b[38;5;66;03m# how do we generate an answer\u001b[39;00m\n",
      "\u001b[0;31mAttributeError\u001b[0m: module 'inspect_explorer.inspect_ai' has no attribute 'task'"
     ]
    }
   ],
   "source": [
    "@iai.task\n",
    "def hello_world() -> iai.Task:\n",
    "\n",
    "    dataset: iai.Dataset | Sequence[iai.dataset.Sample] = [\n",
    "        iai.dataset.Sample(\n",
    "            input=\"Just reply with Hello World\",\n",
    "            target=\"Hello World\",\n",
    "        )\n",
    "    ]\n",
    "\n",
    "    # how do we generate an answer\n",
    "    solver: iai.solver.Solver | list[iai.solver.Solver] = [iai.solver.generate()]\n",
    "\n",
    "    # how do we score the answer\n",
    "    scorer: iai.scorer.Scorer | list[iai.scorer.Scorer] = [iai.scorer.exact()]\n",
    "\n",
    "    task = iai.Task(dataset=dataset, solver=solver, scorer=scorer)\n",
    "\n",
    "    return task"
   ]
  },
  {
   "cell_type": "code",
   "execution_count": null,
   "id": "662cbee1",
   "metadata": {},
   "outputs": [],
   "source": []
  }
 ],
 "metadata": {
  "kernelspec": {
   "display_name": "Python 3 (ipykernel)",
   "language": "python",
   "name": "python3"
  },
  "language_info": {
   "codemirror_mode": {
    "name": "ipython",
    "version": 3
   },
   "file_extension": ".py",
   "mimetype": "text/x-python",
   "name": "python",
   "nbconvert_exporter": "python",
   "pygments_lexer": "ipython3",
   "version": "3.12.5"
  }
 },
 "nbformat": 4,
 "nbformat_minor": 5
}
